{
 "cells": [
  {
   "cell_type": "code",
   "execution_count": 181,
   "id": "7f261b4a-1e80-4c73-b43b-cd0347ed88a6",
   "metadata": {},
   "outputs": [],
   "source": [
    "import pandas as pd\n",
    "import numpy as np\n",
    "\n",
    "from sklearn.linear_model import Lasso\n",
    "from sklearn.metrics import mean_squared_error, r2_score\n",
    "from sklearn.model_selection import train_test_split\n",
    "from sklearn.pipeline import Pipeline\n",
    "from sklearn.preprocessing import MinMaxScaler, Binarizer\n",
    "\n",
    "from feature_engine.imputation import AddMissingIndicator, MeanMedianImputer, CategoricalImputer\n",
    "from feature_engine.encoding import RareLabelEncoder, OrdinalEncoder\n",
    "from feature_engine.transformation import LogTransformer\n",
    "from feature_engine.selection import DropFeatures\n",
    "from feature_engine.wrappers import SklearnTransformerWrapper\n",
    "\n",
    "import myPreprocessors as mypp #nuestra librerías de transformaciones.\n",
    "\n",
    "import joblib"
   ]
  },
  {
   "cell_type": "code",
   "execution_count": 182,
   "id": "c228c62f-74f9-4ada-8e30-3877d5f9a7cb",
   "metadata": {},
   "outputs": [
    {
     "data": {
      "text/html": [
       "<div>\n",
       "<style scoped>\n",
       "    .dataframe tbody tr th:only-of-type {\n",
       "        vertical-align: middle;\n",
       "    }\n",
       "\n",
       "    .dataframe tbody tr th {\n",
       "        vertical-align: top;\n",
       "    }\n",
       "\n",
       "    .dataframe thead th {\n",
       "        text-align: right;\n",
       "    }\n",
       "</style>\n",
       "<table border=\"1\" class=\"dataframe\">\n",
       "  <thead>\n",
       "    <tr style=\"text-align: right;\">\n",
       "      <th></th>\n",
       "      <th>ID</th>\n",
       "      <th>year</th>\n",
       "      <th>loan_limit</th>\n",
       "      <th>Gender</th>\n",
       "      <th>approv_in_adv</th>\n",
       "      <th>loan_type</th>\n",
       "      <th>loan_purpose</th>\n",
       "      <th>Credit_Worthiness</th>\n",
       "      <th>open_credit</th>\n",
       "      <th>business_or_commercial</th>\n",
       "      <th>...</th>\n",
       "      <th>credit_type</th>\n",
       "      <th>Credit_Score</th>\n",
       "      <th>co-applicant_credit_type</th>\n",
       "      <th>age</th>\n",
       "      <th>submission_of_application</th>\n",
       "      <th>LTV</th>\n",
       "      <th>Region</th>\n",
       "      <th>Security_Type</th>\n",
       "      <th>Status</th>\n",
       "      <th>dtir1</th>\n",
       "    </tr>\n",
       "  </thead>\n",
       "  <tbody>\n",
       "    <tr>\n",
       "      <th>0</th>\n",
       "      <td>25159</td>\n",
       "      <td>2019</td>\n",
       "      <td>cf</td>\n",
       "      <td>Sex Not Available</td>\n",
       "      <td>nopre</td>\n",
       "      <td>type1</td>\n",
       "      <td>p3</td>\n",
       "      <td>l1</td>\n",
       "      <td>nopc</td>\n",
       "      <td>nob/c</td>\n",
       "      <td>...</td>\n",
       "      <td>EQUI</td>\n",
       "      <td>700</td>\n",
       "      <td>EXP</td>\n",
       "      <td>35-44</td>\n",
       "      <td>to_inst</td>\n",
       "      <td>NaN</td>\n",
       "      <td>south</td>\n",
       "      <td>direct</td>\n",
       "      <td>1</td>\n",
       "      <td>NaN</td>\n",
       "    </tr>\n",
       "    <tr>\n",
       "      <th>1</th>\n",
       "      <td>25249</td>\n",
       "      <td>2019</td>\n",
       "      <td>cf</td>\n",
       "      <td>Sex Not Available</td>\n",
       "      <td>nopre</td>\n",
       "      <td>type1</td>\n",
       "      <td>p3</td>\n",
       "      <td>l1</td>\n",
       "      <td>nopc</td>\n",
       "      <td>nob/c</td>\n",
       "      <td>...</td>\n",
       "      <td>EQUI</td>\n",
       "      <td>597</td>\n",
       "      <td>EXP</td>\n",
       "      <td>65-74</td>\n",
       "      <td>to_inst</td>\n",
       "      <td>NaN</td>\n",
       "      <td>south</td>\n",
       "      <td>direct</td>\n",
       "      <td>1</td>\n",
       "      <td>NaN</td>\n",
       "    </tr>\n",
       "    <tr>\n",
       "      <th>2</th>\n",
       "      <td>25394</td>\n",
       "      <td>2019</td>\n",
       "      <td>cf</td>\n",
       "      <td>Sex Not Available</td>\n",
       "      <td>nopre</td>\n",
       "      <td>type1</td>\n",
       "      <td>p3</td>\n",
       "      <td>l1</td>\n",
       "      <td>nopc</td>\n",
       "      <td>nob/c</td>\n",
       "      <td>...</td>\n",
       "      <td>EQUI</td>\n",
       "      <td>730</td>\n",
       "      <td>EXP</td>\n",
       "      <td>&gt;74</td>\n",
       "      <td>to_inst</td>\n",
       "      <td>NaN</td>\n",
       "      <td>south</td>\n",
       "      <td>direct</td>\n",
       "      <td>1</td>\n",
       "      <td>NaN</td>\n",
       "    </tr>\n",
       "    <tr>\n",
       "      <th>3</th>\n",
       "      <td>26024</td>\n",
       "      <td>2019</td>\n",
       "      <td>cf</td>\n",
       "      <td>Sex Not Available</td>\n",
       "      <td>nopre</td>\n",
       "      <td>type1</td>\n",
       "      <td>p3</td>\n",
       "      <td>l1</td>\n",
       "      <td>nopc</td>\n",
       "      <td>nob/c</td>\n",
       "      <td>...</td>\n",
       "      <td>EQUI</td>\n",
       "      <td>657</td>\n",
       "      <td>EXP</td>\n",
       "      <td>55-64</td>\n",
       "      <td>to_inst</td>\n",
       "      <td>NaN</td>\n",
       "      <td>south</td>\n",
       "      <td>direct</td>\n",
       "      <td>1</td>\n",
       "      <td>NaN</td>\n",
       "    </tr>\n",
       "    <tr>\n",
       "      <th>4</th>\n",
       "      <td>27400</td>\n",
       "      <td>2019</td>\n",
       "      <td>cf</td>\n",
       "      <td>Sex Not Available</td>\n",
       "      <td>nopre</td>\n",
       "      <td>type1</td>\n",
       "      <td>p3</td>\n",
       "      <td>l1</td>\n",
       "      <td>nopc</td>\n",
       "      <td>nob/c</td>\n",
       "      <td>...</td>\n",
       "      <td>EQUI</td>\n",
       "      <td>507</td>\n",
       "      <td>EXP</td>\n",
       "      <td>65-74</td>\n",
       "      <td>to_inst</td>\n",
       "      <td>NaN</td>\n",
       "      <td>south</td>\n",
       "      <td>direct</td>\n",
       "      <td>1</td>\n",
       "      <td>NaN</td>\n",
       "    </tr>\n",
       "  </tbody>\n",
       "</table>\n",
       "<p>5 rows × 34 columns</p>\n",
       "</div>"
      ],
      "text/plain": [
       "      ID  year loan_limit             Gender approv_in_adv loan_type  \\\n",
       "0  25159  2019         cf  Sex Not Available         nopre     type1   \n",
       "1  25249  2019         cf  Sex Not Available         nopre     type1   \n",
       "2  25394  2019         cf  Sex Not Available         nopre     type1   \n",
       "3  26024  2019         cf  Sex Not Available         nopre     type1   \n",
       "4  27400  2019         cf  Sex Not Available         nopre     type1   \n",
       "\n",
       "  loan_purpose Credit_Worthiness open_credit business_or_commercial  ...  \\\n",
       "0           p3                l1        nopc                  nob/c  ...   \n",
       "1           p3                l1        nopc                  nob/c  ...   \n",
       "2           p3                l1        nopc                  nob/c  ...   \n",
       "3           p3                l1        nopc                  nob/c  ...   \n",
       "4           p3                l1        nopc                  nob/c  ...   \n",
       "\n",
       "   credit_type  Credit_Score  co-applicant_credit_type    age  \\\n",
       "0         EQUI           700                       EXP  35-44   \n",
       "1         EQUI           597                       EXP  65-74   \n",
       "2         EQUI           730                       EXP    >74   \n",
       "3         EQUI           657                       EXP  55-64   \n",
       "4         EQUI           507                       EXP  65-74   \n",
       "\n",
       "   submission_of_application LTV Region Security_Type  Status dtir1  \n",
       "0                    to_inst NaN  south        direct       1   NaN  \n",
       "1                    to_inst NaN  south        direct       1   NaN  \n",
       "2                    to_inst NaN  south        direct       1   NaN  \n",
       "3                    to_inst NaN  south        direct       1   NaN  \n",
       "4                    to_inst NaN  south        direct       1   NaN  \n",
       "\n",
       "[5 rows x 34 columns]"
      ]
     },
     "execution_count": 182,
     "metadata": {},
     "output_type": "execute_result"
    }
   ],
   "source": [
    "df = pd.read_csv(\"LoanDefault2.csv\",sep=\";\")\n",
    "df.head()"
   ]
  },
  {
   "cell_type": "code",
   "execution_count": 183,
   "id": "53170100-180b-4d62-9514-2be15bbea71d",
   "metadata": {},
   "outputs": [
    {
     "data": {
      "text/plain": [
       "ID                             int64\n",
       "year                           int64\n",
       "loan_limit                    object\n",
       "Gender                        object\n",
       "approv_in_adv                 object\n",
       "loan_type                     object\n",
       "loan_purpose                  object\n",
       "Credit_Worthiness             object\n",
       "open_credit                   object\n",
       "business_or_commercial        object\n",
       "loan_amount                    int64\n",
       "rate_of_interest             float64\n",
       "Interest_rate_spread         float64\n",
       "Upfront_charges              float64\n",
       "term                         float64\n",
       "Neg_ammortization             object\n",
       "interest_only                 object\n",
       "lump_sum_payment              object\n",
       "property_value               float64\n",
       "construction_type             object\n",
       "occupancy_type                object\n",
       "Secured_by                    object\n",
       "total_units                   object\n",
       "income                       float64\n",
       "credit_type                   object\n",
       "Credit_Score                   int64\n",
       "co-applicant_credit_type      object\n",
       "age                           object\n",
       "submission_of_application     object\n",
       "LTV                          float64\n",
       "Region                        object\n",
       "Security_Type                 object\n",
       "Status                         int64\n",
       "dtir1                        float64\n",
       "dtype: object"
      ]
     },
     "execution_count": 183,
     "metadata": {},
     "output_type": "execute_result"
    }
   ],
   "source": [
    "df.dtypes"
   ]
  },
  {
   "attachments": {},
   "cell_type": "markdown",
   "id": "a460950b-75f7-4c60-9415-2e183cee5f7d",
   "metadata": {},
   "source": [
    "#### 2. Train Test Split para Entrenamiento y Prueba"
   ]
  },
  {
   "cell_type": "code",
   "execution_count": 184,
   "id": "e29738ce-1ae7-4d7b-a5de-3703ded7ccf9",
   "metadata": {},
   "outputs": [],
   "source": [
    "X_train, X_test, y_train, y_test = train_test_split(\n",
    "    df.drop(['ID', 'Status'], axis=1),\n",
    "    df['Status'],\n",
    "    test_size=0.3,\n",
    "    random_state=2023)\n"
   ]
  },
  {
   "attachments": {},
   "cell_type": "markdown",
   "id": "8c7e7779-87a6-41f1-8d3f-f069bd4aabf2",
   "metadata": {},
   "source": [
    "#### 3. Configuración del Pipeline"
   ]
  },
  {
   "cell_type": "code",
   "execution_count": 185,
   "id": "9611114b-690a-43b4-a523-360aadb9a89b",
   "metadata": {},
   "outputs": [],
   "source": [
    "#imputación de variables categóricas\n",
    "CATEGORICAL_VARS_WITH_NA_FREQUENT = []\n",
    "\n",
    "#imputación de variables categoricas con indicador de Faltante (Missing)\n",
    "CATEGORICAL_VARS_WITH_NA_MISSING = ['loan_limit', 'approv_in_adv','loan_purpose', 'Neg_ammortization']\n",
    "\n",
    "#Imputación de variables numéricas\n",
    "NUMERICAL_VARS_WITH_NA = []\n",
    "\n",
    "#Outliers\n",
    "NUMERICAL_VARS_WITH_OUTLIERS = ['loan_amount']\n",
    "\n",
    "\n",
    "#Variables temporales\n",
    "TEMPORAL_VARS = []\n",
    "\n",
    "#Año de Referencia\n",
    "REF_VAR = \"\"\n",
    "\n",
    "#Variables para Binarización por sesgo\n",
    "BINARIZE_VARS = []\n",
    "\n",
    "#Variables que eliminaremos\n",
    "DROP_FEATURES = [\"YrSold\"]\n",
    "\n",
    "#Variables para transfomraicón logarítmica\n",
    "NUMERICAL_LOG_VARS = []\n",
    "\n",
    "#Variables para codificación ordinal.\n",
    "QUAL_VARS = []\n",
    "\n",
    "#variables especiales\n",
    "\n",
    "\n",
    "#Variables que eliminaremos\n",
    "DROP_FEATURES = [\"year\"]\n",
    "\n",
    "#Variables para codificación por frecuencia (no ordinal)\n",
    "CATEGORICAL_VARS = ['loan_limit','Gender', 'approv_in_adv', 'loan_type', 'loan_purpose',\n",
    "'Credit_Worthiness',\n",
    "'open_credit',\n",
    "'business_or_commercial',\n",
    "'Neg_ammortization',\n",
    "'interest_only',\n",
    "'lump_sum_payment',\n",
    "'construction_type',\n",
    "'occupancy_type',\n",
    "'Secured_by',\n",
    "'total_units',\n",
    "'credit_type',\n",
    "'co-applicant_credit_type',\n",
    "'age',\n",
    "'submission_of_application',\n",
    "'Region',\n",
    "'Security_Type']\n",
    "\n",
    "#Mapeo para varibels categótricas para calidad.\n",
    "ExampleMaping = {}\n",
    "\n",
    "\n",
    "#Variables a utilzar en el entrenamiento\n",
    "FEATURES = [\n",
    "'loan_limit',\n",
    " 'Gender',\n",
    " 'approv_in_adv',\n",
    " 'loan_type',\n",
    " 'loan_purpose',\n",
    " 'Credit_Worthiness',\n",
    " 'open_credit',\n",
    " 'business_or_commercial',\n",
    " 'loan_amount',\n",
    " 'Neg_ammortization',\n",
    " 'interest_only',\n",
    " 'lump_sum_payment',\n",
    " 'construction_type',\n",
    " 'occupancy_type',\n",
    " 'Secured_by',\n",
    " 'total_units',\n",
    " 'credit_type',\n",
    " 'co-applicant_credit_type',\n",
    " 'age',\n",
    " 'submission_of_application',\n",
    " 'Region',\n",
    " 'Security_Type'\n",
    "]"
   ]
  },
  {
   "cell_type": "code",
   "execution_count": 186,
   "id": "e0f1af0a-7c9f-4835-846e-d5b25f6a095e",
   "metadata": {},
   "outputs": [],
   "source": [
    "X_train = X_train[FEATURES]"
   ]
  },
  {
   "cell_type": "code",
   "execution_count": 187,
   "id": "7ba81c4b",
   "metadata": {},
   "outputs": [],
   "source": [
    "from sklearn.ensemble import GradientBoostingClassifier"
   ]
  },
  {
   "attachments": {},
   "cell_type": "markdown",
   "id": "9d25fe80-43f8-4bb3-9b99-d13c4bc4954a",
   "metadata": {},
   "source": [
    "#### 4. Construcción del Pipeline"
   ]
  },
  {
   "cell_type": "code",
   "execution_count": 188,
   "id": "8786bebb",
   "metadata": {},
   "outputs": [],
   "source": [
    "modelo_gb = GradientBoostingClassifier(learning_rate=0.1, max_depth=5, n_estimators=200)"
   ]
  },
  {
   "cell_type": "code",
   "execution_count": 189,
   "id": "60be63aa",
   "metadata": {},
   "outputs": [],
   "source": [
    "LoanDefaultv012023 = Pipeline([\n",
    "    \n",
    "    #=========== IMPUTACIONES ===============\n",
    "    \n",
    "    #1. Imputaciín de variables categóricas con indicador de faltante\n",
    "    ('missing_imputation',\n",
    "        CategoricalImputer(imputation_method='missing', variables=CATEGORICAL_VARS_WITH_NA_MISSING)\n",
    "    ),\n",
    "    #============= CODIFICACIÓN DE VARIABLES CATEGORICAS NOMINALES ==================\n",
    "    ('rare_label_encoder',\n",
    "        RareLabelEncoder(n_categories=1, tol=0.01, variables=CATEGORICAL_VARS)\n",
    "    ),\n",
    "    \n",
    "    ('categorical_encoder',\n",
    "        OrdinalEncoder(encoding_method='ordered', variables=CATEGORICAL_VARS)\n",
    "    ),\n",
    "\n",
    "     #=============== SCALER ============\n",
    "    ('scaler',\n",
    "        MinMaxScaler()\n",
    "    ),\n",
    "    \n",
    "    ('modelo_gradient_boosting', modelo_gb )\n",
    "])"
   ]
  },
  {
   "cell_type": "code",
   "execution_count": 191,
   "id": "69c3632b-d1bc-48ca-b7cf-d9aa4776875a",
   "metadata": {},
   "outputs": [
    {
     "data": {
      "text/html": [
       "<style>#sk-container-id-1 {color: black;background-color: white;}#sk-container-id-1 pre{padding: 0;}#sk-container-id-1 div.sk-toggleable {background-color: white;}#sk-container-id-1 label.sk-toggleable__label {cursor: pointer;display: block;width: 100%;margin-bottom: 0;padding: 0.3em;box-sizing: border-box;text-align: center;}#sk-container-id-1 label.sk-toggleable__label-arrow:before {content: \"▸\";float: left;margin-right: 0.25em;color: #696969;}#sk-container-id-1 label.sk-toggleable__label-arrow:hover:before {color: black;}#sk-container-id-1 div.sk-estimator:hover label.sk-toggleable__label-arrow:before {color: black;}#sk-container-id-1 div.sk-toggleable__content {max-height: 0;max-width: 0;overflow: hidden;text-align: left;background-color: #f0f8ff;}#sk-container-id-1 div.sk-toggleable__content pre {margin: 0.2em;color: black;border-radius: 0.25em;background-color: #f0f8ff;}#sk-container-id-1 input.sk-toggleable__control:checked~div.sk-toggleable__content {max-height: 200px;max-width: 100%;overflow: auto;}#sk-container-id-1 input.sk-toggleable__control:checked~label.sk-toggleable__label-arrow:before {content: \"▾\";}#sk-container-id-1 div.sk-estimator input.sk-toggleable__control:checked~label.sk-toggleable__label {background-color: #d4ebff;}#sk-container-id-1 div.sk-label input.sk-toggleable__control:checked~label.sk-toggleable__label {background-color: #d4ebff;}#sk-container-id-1 input.sk-hidden--visually {border: 0;clip: rect(1px 1px 1px 1px);clip: rect(1px, 1px, 1px, 1px);height: 1px;margin: -1px;overflow: hidden;padding: 0;position: absolute;width: 1px;}#sk-container-id-1 div.sk-estimator {font-family: monospace;background-color: #f0f8ff;border: 1px dotted black;border-radius: 0.25em;box-sizing: border-box;margin-bottom: 0.5em;}#sk-container-id-1 div.sk-estimator:hover {background-color: #d4ebff;}#sk-container-id-1 div.sk-parallel-item::after {content: \"\";width: 100%;border-bottom: 1px solid gray;flex-grow: 1;}#sk-container-id-1 div.sk-label:hover label.sk-toggleable__label {background-color: #d4ebff;}#sk-container-id-1 div.sk-serial::before {content: \"\";position: absolute;border-left: 1px solid gray;box-sizing: border-box;top: 0;bottom: 0;left: 50%;z-index: 0;}#sk-container-id-1 div.sk-serial {display: flex;flex-direction: column;align-items: center;background-color: white;padding-right: 0.2em;padding-left: 0.2em;position: relative;}#sk-container-id-1 div.sk-item {position: relative;z-index: 1;}#sk-container-id-1 div.sk-parallel {display: flex;align-items: stretch;justify-content: center;background-color: white;position: relative;}#sk-container-id-1 div.sk-item::before, #sk-container-id-1 div.sk-parallel-item::before {content: \"\";position: absolute;border-left: 1px solid gray;box-sizing: border-box;top: 0;bottom: 0;left: 50%;z-index: -1;}#sk-container-id-1 div.sk-parallel-item {display: flex;flex-direction: column;z-index: 1;position: relative;background-color: white;}#sk-container-id-1 div.sk-parallel-item:first-child::after {align-self: flex-end;width: 50%;}#sk-container-id-1 div.sk-parallel-item:last-child::after {align-self: flex-start;width: 50%;}#sk-container-id-1 div.sk-parallel-item:only-child::after {width: 0;}#sk-container-id-1 div.sk-dashed-wrapped {border: 1px dashed gray;margin: 0 0.4em 0.5em 0.4em;box-sizing: border-box;padding-bottom: 0.4em;background-color: white;}#sk-container-id-1 div.sk-label label {font-family: monospace;font-weight: bold;display: inline-block;line-height: 1.2em;}#sk-container-id-1 div.sk-label-container {text-align: center;}#sk-container-id-1 div.sk-container {/* jupyter's `normalize.less` sets `[hidden] { display: none; }` but bootstrap.min.css set `[hidden] { display: none !important; }` so we also need the `!important` here to be able to override the default hidden behavior on the sphinx rendered scikit-learn.org. See: https://github.com/scikit-learn/scikit-learn/issues/21755 */display: inline-block !important;position: relative;}#sk-container-id-1 div.sk-text-repr-fallback {display: none;}</style><div id=\"sk-container-id-1\" class=\"sk-top-container\"><div class=\"sk-text-repr-fallback\"><pre>Pipeline(steps=[(&#x27;missing_imputation&#x27;,\n",
       "                 CategoricalImputer(variables=[&#x27;loan_limit&#x27;, &#x27;approv_in_adv&#x27;,\n",
       "                                               &#x27;loan_purpose&#x27;,\n",
       "                                               &#x27;Neg_ammortization&#x27;])),\n",
       "                (&#x27;rare_label_encoder&#x27;,\n",
       "                 RareLabelEncoder(n_categories=1, tol=0.01,\n",
       "                                  variables=[&#x27;loan_limit&#x27;, &#x27;Gender&#x27;,\n",
       "                                             &#x27;approv_in_adv&#x27;, &#x27;loan_type&#x27;,\n",
       "                                             &#x27;loan_purpose&#x27;,\n",
       "                                             &#x27;Credit_Worthiness&#x27;, &#x27;open_credit&#x27;,\n",
       "                                             &#x27;business_or_commercial&#x27;,\n",
       "                                             &#x27;Neg_ammortizatio...\n",
       "                                           &#x27;business_or_commercial&#x27;,\n",
       "                                           &#x27;Neg_ammortization&#x27;, &#x27;interest_only&#x27;,\n",
       "                                           &#x27;lump_sum_payment&#x27;,\n",
       "                                           &#x27;construction_type&#x27;,\n",
       "                                           &#x27;occupancy_type&#x27;, &#x27;Secured_by&#x27;,\n",
       "                                           &#x27;total_units&#x27;, &#x27;credit_type&#x27;,\n",
       "                                           &#x27;co-applicant_credit_type&#x27;, &#x27;age&#x27;,\n",
       "                                           &#x27;submission_of_application&#x27;,\n",
       "                                           &#x27;Region&#x27;, &#x27;Security_Type&#x27;])),\n",
       "                (&#x27;scaler&#x27;, MinMaxScaler()),\n",
       "                (&#x27;modelo_gradient_boosting&#x27;,\n",
       "                 GradientBoostingClassifier(max_depth=5, n_estimators=200))])</pre><b>In a Jupyter environment, please rerun this cell to show the HTML representation or trust the notebook. <br />On GitHub, the HTML representation is unable to render, please try loading this page with nbviewer.org.</b></div><div class=\"sk-container\" hidden><div class=\"sk-item sk-dashed-wrapped\"><div class=\"sk-label-container\"><div class=\"sk-label sk-toggleable\"><input class=\"sk-toggleable__control sk-hidden--visually\" id=\"sk-estimator-id-1\" type=\"checkbox\" ><label for=\"sk-estimator-id-1\" class=\"sk-toggleable__label sk-toggleable__label-arrow\">Pipeline</label><div class=\"sk-toggleable__content\"><pre>Pipeline(steps=[(&#x27;missing_imputation&#x27;,\n",
       "                 CategoricalImputer(variables=[&#x27;loan_limit&#x27;, &#x27;approv_in_adv&#x27;,\n",
       "                                               &#x27;loan_purpose&#x27;,\n",
       "                                               &#x27;Neg_ammortization&#x27;])),\n",
       "                (&#x27;rare_label_encoder&#x27;,\n",
       "                 RareLabelEncoder(n_categories=1, tol=0.01,\n",
       "                                  variables=[&#x27;loan_limit&#x27;, &#x27;Gender&#x27;,\n",
       "                                             &#x27;approv_in_adv&#x27;, &#x27;loan_type&#x27;,\n",
       "                                             &#x27;loan_purpose&#x27;,\n",
       "                                             &#x27;Credit_Worthiness&#x27;, &#x27;open_credit&#x27;,\n",
       "                                             &#x27;business_or_commercial&#x27;,\n",
       "                                             &#x27;Neg_ammortizatio...\n",
       "                                           &#x27;business_or_commercial&#x27;,\n",
       "                                           &#x27;Neg_ammortization&#x27;, &#x27;interest_only&#x27;,\n",
       "                                           &#x27;lump_sum_payment&#x27;,\n",
       "                                           &#x27;construction_type&#x27;,\n",
       "                                           &#x27;occupancy_type&#x27;, &#x27;Secured_by&#x27;,\n",
       "                                           &#x27;total_units&#x27;, &#x27;credit_type&#x27;,\n",
       "                                           &#x27;co-applicant_credit_type&#x27;, &#x27;age&#x27;,\n",
       "                                           &#x27;submission_of_application&#x27;,\n",
       "                                           &#x27;Region&#x27;, &#x27;Security_Type&#x27;])),\n",
       "                (&#x27;scaler&#x27;, MinMaxScaler()),\n",
       "                (&#x27;modelo_gradient_boosting&#x27;,\n",
       "                 GradientBoostingClassifier(max_depth=5, n_estimators=200))])</pre></div></div></div><div class=\"sk-serial\"><div class=\"sk-item\"><div class=\"sk-estimator sk-toggleable\"><input class=\"sk-toggleable__control sk-hidden--visually\" id=\"sk-estimator-id-2\" type=\"checkbox\" ><label for=\"sk-estimator-id-2\" class=\"sk-toggleable__label sk-toggleable__label-arrow\">CategoricalImputer</label><div class=\"sk-toggleable__content\"><pre>CategoricalImputer(variables=[&#x27;loan_limit&#x27;, &#x27;approv_in_adv&#x27;, &#x27;loan_purpose&#x27;,\n",
       "                              &#x27;Neg_ammortization&#x27;])</pre></div></div></div><div class=\"sk-item\"><div class=\"sk-estimator sk-toggleable\"><input class=\"sk-toggleable__control sk-hidden--visually\" id=\"sk-estimator-id-3\" type=\"checkbox\" ><label for=\"sk-estimator-id-3\" class=\"sk-toggleable__label sk-toggleable__label-arrow\">RareLabelEncoder</label><div class=\"sk-toggleable__content\"><pre>RareLabelEncoder(n_categories=1, tol=0.01,\n",
       "                 variables=[&#x27;loan_limit&#x27;, &#x27;Gender&#x27;, &#x27;approv_in_adv&#x27;,\n",
       "                            &#x27;loan_type&#x27;, &#x27;loan_purpose&#x27;, &#x27;Credit_Worthiness&#x27;,\n",
       "                            &#x27;open_credit&#x27;, &#x27;business_or_commercial&#x27;,\n",
       "                            &#x27;Neg_ammortization&#x27;, &#x27;interest_only&#x27;,\n",
       "                            &#x27;lump_sum_payment&#x27;, &#x27;construction_type&#x27;,\n",
       "                            &#x27;occupancy_type&#x27;, &#x27;Secured_by&#x27;, &#x27;total_units&#x27;,\n",
       "                            &#x27;credit_type&#x27;, &#x27;co-applicant_credit_type&#x27;, &#x27;age&#x27;,\n",
       "                            &#x27;submission_of_application&#x27;, &#x27;Region&#x27;,\n",
       "                            &#x27;Security_Type&#x27;])</pre></div></div></div><div class=\"sk-item\"><div class=\"sk-estimator sk-toggleable\"><input class=\"sk-toggleable__control sk-hidden--visually\" id=\"sk-estimator-id-4\" type=\"checkbox\" ><label for=\"sk-estimator-id-4\" class=\"sk-toggleable__label sk-toggleable__label-arrow\">OrdinalEncoder</label><div class=\"sk-toggleable__content\"><pre>OrdinalEncoder(variables=[&#x27;loan_limit&#x27;, &#x27;Gender&#x27;, &#x27;approv_in_adv&#x27;, &#x27;loan_type&#x27;,\n",
       "                          &#x27;loan_purpose&#x27;, &#x27;Credit_Worthiness&#x27;, &#x27;open_credit&#x27;,\n",
       "                          &#x27;business_or_commercial&#x27;, &#x27;Neg_ammortization&#x27;,\n",
       "                          &#x27;interest_only&#x27;, &#x27;lump_sum_payment&#x27;,\n",
       "                          &#x27;construction_type&#x27;, &#x27;occupancy_type&#x27;, &#x27;Secured_by&#x27;,\n",
       "                          &#x27;total_units&#x27;, &#x27;credit_type&#x27;,\n",
       "                          &#x27;co-applicant_credit_type&#x27;, &#x27;age&#x27;,\n",
       "                          &#x27;submission_of_application&#x27;, &#x27;Region&#x27;,\n",
       "                          &#x27;Security_Type&#x27;])</pre></div></div></div><div class=\"sk-item\"><div class=\"sk-estimator sk-toggleable\"><input class=\"sk-toggleable__control sk-hidden--visually\" id=\"sk-estimator-id-5\" type=\"checkbox\" ><label for=\"sk-estimator-id-5\" class=\"sk-toggleable__label sk-toggleable__label-arrow\">MinMaxScaler</label><div class=\"sk-toggleable__content\"><pre>MinMaxScaler()</pre></div></div></div><div class=\"sk-item\"><div class=\"sk-estimator sk-toggleable\"><input class=\"sk-toggleable__control sk-hidden--visually\" id=\"sk-estimator-id-6\" type=\"checkbox\" ><label for=\"sk-estimator-id-6\" class=\"sk-toggleable__label sk-toggleable__label-arrow\">GradientBoostingClassifier</label><div class=\"sk-toggleable__content\"><pre>GradientBoostingClassifier(max_depth=5, n_estimators=200)</pre></div></div></div></div></div></div></div>"
      ],
      "text/plain": [
       "Pipeline(steps=[('missing_imputation',\n",
       "                 CategoricalImputer(variables=['loan_limit', 'approv_in_adv',\n",
       "                                               'loan_purpose',\n",
       "                                               'Neg_ammortization'])),\n",
       "                ('rare_label_encoder',\n",
       "                 RareLabelEncoder(n_categories=1, tol=0.01,\n",
       "                                  variables=['loan_limit', 'Gender',\n",
       "                                             'approv_in_adv', 'loan_type',\n",
       "                                             'loan_purpose',\n",
       "                                             'Credit_Worthiness', 'open_credit',\n",
       "                                             'business_or_commercial',\n",
       "                                             'Neg_ammortizatio...\n",
       "                                           'business_or_commercial',\n",
       "                                           'Neg_ammortization', 'interest_only',\n",
       "                                           'lump_sum_payment',\n",
       "                                           'construction_type',\n",
       "                                           'occupancy_type', 'Secured_by',\n",
       "                                           'total_units', 'credit_type',\n",
       "                                           'co-applicant_credit_type', 'age',\n",
       "                                           'submission_of_application',\n",
       "                                           'Region', 'Security_Type'])),\n",
       "                ('scaler', MinMaxScaler()),\n",
       "                ('modelo_gradient_boosting',\n",
       "                 GradientBoostingClassifier(max_depth=5, n_estimators=200))])"
      ]
     },
     "execution_count": 191,
     "metadata": {},
     "output_type": "execute_result"
    }
   ],
   "source": [
    "LoanDefaultv012023.fit(X_train, y_train)"
   ]
  },
  {
   "cell_type": "code",
   "execution_count": 192,
   "id": "32a8caa4-285e-49b6-b784-7b87daa7c559",
   "metadata": {},
   "outputs": [],
   "source": [
    "X_test = X_test[FEATURES]\n"
   ]
  },
  {
   "cell_type": "code",
   "execution_count": 206,
   "id": "84f6a05e-51df-4e10-a6ab-33a8e81887fb",
   "metadata": {},
   "outputs": [],
   "source": [
    "pred = LoanDefaultv012023.predict(X_test)"
   ]
  },
  {
   "cell_type": "code",
   "execution_count": 209,
   "id": "4ff85b23",
   "metadata": {},
   "outputs": [
    {
     "data": {
      "text/plain": [
       "array([0, 0, 0, ..., 0, 0, 0], dtype=int64)"
      ]
     },
     "execution_count": 209,
     "metadata": {},
     "output_type": "execute_result"
    }
   ],
   "source": [
    "pred"
   ]
  },
  {
   "cell_type": "code",
   "execution_count": 213,
   "id": "13b12545",
   "metadata": {},
   "outputs": [
    {
     "data": {
      "image/png": "[encoded data removed]",
      "text/plain": [
       "<Figure size 640x480 with 2 Axes>"
      ]
     },
     "metadata": {},
     "output_type": "display_data"
    }
   ],
   "source": [
    "import seaborn as sns\n",
    "import matplotlib.pyplot as plt\n",
    "from sklearn.metrics import confusion_matrix\n",
    "cm = confusion_matrix(y_test, pred)\n",
    "\n",
    "sns.heatmap(cm, annot=True, fmt='d', cmap='Blues')\n",
    "plt.xlabel('Predicciones')\n",
    "plt.ylabel('Etiquetas Verdaderas')\n",
    "plt.show()\n",
    "\n"
   ]
  },
  {
   "cell_type": "code",
   "execution_count": 197,
   "id": "7a747df5-2fae-4492-b039-71e09a6df80d",
   "metadata": {},
   "outputs": [
    {
     "data": {
      "text/plain": [
       "['LoanDefaultv012023.pkl']"
      ]
     },
     "execution_count": 197,
     "metadata": {},
     "output_type": "execute_result"
    }
   ],
   "source": [
    "#guardamos pipeline para uso en producción.\n",
    "joblib.dump(LoanDefaultv012023, 'LoanDefaultv012023.pkl')"
   ]
  },
  {
   "cell_type": "code",
   "execution_count": 198,
   "id": "66327b93-c246-4689-8f6d-005d5d872b22",
   "metadata": {},
   "outputs": [
    {
     "data": {
      "text/plain": [
       "['FEATURES.pkl']"
      ]
     },
     "execution_count": 198,
     "metadata": {},
     "output_type": "execute_result"
    }
   ],
   "source": [
    "joblib.dump(FEATURES, 'FEATURES.pkl')"
   ]
  }
 ],
 "metadata": {
  "kernelspec": {
   "display_name": "Python 3.9.12 ('base')",
   "language": "python",
   "name": "python3"
  },
  "language_info": {
   "codemirror_mode": {
    "name": "ipython",
    "version": 3
   },
   "file_extension": ".py",
   "mimetype": "text/x-python",
   "name": "python",
   "nbconvert_exporter": "python",
   "pygments_lexer": "ipython3",
   "version": "3.8.16"
  },
  "vscode": {
   "interpreter": {
    "hash": "48168050f1fe731b302b63a744aad32afdf0a66ee6e49905924ec3fd4edeb196"
   }
  }
 },
 "nbformat": 4,
 "nbformat_minor": 5
}
